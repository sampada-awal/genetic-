{
 "cells": [
  {
   "cell_type": "code",
   "execution_count": 1,
   "id": "a84e62d2-c3e9-4eeb-aaff-270975f66c63",
   "metadata": {},
   "outputs": [],
   "source": [
    "import random\n",
    "import math"
   ]
  },
  {
   "cell_type": "code",
   "execution_count": 3,
   "id": "e97c30a5-3bcf-45e5-a702-e9d7d5f5a01b",
   "metadata": {},
   "outputs": [],
   "source": [
    "# Parameters\n",
    "popn_size = 5\n",
    "mut_rate = 0.1\n",
    "gen = 5\n",
    "integer_length = 5\n",
    "residual_length = 6\n",
    "length_total = integer_length + residual_length"
   ]
  },
  {
   "cell_type": "code",
   "execution_count": 5,
   "id": "3f1d5734-74c4-4950-a42b-9825456430fe",
   "metadata": {},
   "outputs": [],
   "source": [
    "# Fitness Function\n",
    "def fitness_function(x):\n",
    "    return abs(x**2 + 2*x - 3)"
   ]
  },
  {
   "cell_type": "code",
   "execution_count": 9,
   "id": "2b6dd5b2-1a60-46e6-8243-3b515db452d4",
   "metadata": {},
   "outputs": [],
   "source": [
    "# Binary Encoding\n",
    "def encode(x):\n",
    "    integer_part = int(x)\n",
    "    fractional_part = abs(x - integer_part)\n",
    "    integer_bin = format(integer_part & ((1 << integer_length) - 1), f'0{integer_length}b')\n",
    "    fractional_bin = ''.join(str(int(fractional_part * 2**i) % 2) for i in range(1, residual_length + 1))\n",
    "    return integer_bin + fractional_bin\n",
    "\n",
    "def decode(b):\n",
    "    integer_part = int(b[:integer_length], 2)\n",
    "    fractional_part = sum(int(bit) * 2**-i for i, bit in enumerate(b[integer_length:], 1))\n",
    "    return integer_part + fractional_part"
   ]
  },
  {
   "cell_type": "code",
   "execution_count": 11,
   "id": "4340ca1e-04fc-4ef7-92cf-946b8e92c9f9",
   "metadata": {},
   "outputs": [],
   "source": [
    "# Initial Population\n",
    "init_population = [encode(random.uniform(-5, 5)) for _ in range(popn_size)]"
   ]
  },
  {
   "cell_type": "code",
   "execution_count": 13,
   "id": "f2a124ca-cf64-43fb-b1b8-2f1f68e0d810",
   "metadata": {},
   "outputs": [],
   "source": [
    "# Selection\n",
    "def roulette_wheel_selection(population, fitness_values):\n",
    "    total_fitness = sum(fitness_values)\n",
    "    probabilities = [fitness / total_fitness for fitness in fitness_values]\n",
    "    pointer = random.random()\n",
    "    cumulative_prob = 0\n",
    "    for i, prob in enumerate(probabilities):\n",
    "        cumulative_prob += prob\n",
    "        if pointer <= cumulative_prob:\n",
    "            return population[i]\n"
   ]
  },
  {
   "cell_type": "code",
   "execution_count": 15,
   "id": "66f2e3c6-87e3-4d94-a747-4433f96900c3",
   "metadata": {},
   "outputs": [],
   "source": [
    "# Single-Point Crossover\n",
    "def single_point_crossover(parent1, parent2):\n",
    "    point = random.randint(1, length_total - 1)\n",
    "    child1 = parent1[:point] + parent2[point:]\n",
    "    child2 = parent2[:point] + parent1[point:]\n",
    "    return child1, child2"
   ]
  },
  {
   "cell_type": "code",
   "execution_count": 17,
   "id": "2a1f1907-23c7-4abe-a92d-798c6434962f",
   "metadata": {},
   "outputs": [],
   "source": [
    "# Mutation\n",
    "def mutate(individual):\n",
    "    individual = list(individual)\n",
    "    for i in range(len(individual)):\n",
    "        if random.random() < mut_rate:\n",
    "            individual[i] = '1' if individual[i] == '0' else '0'\n",
    "    return ''.join(individual)"
   ]
  },
  {
   "cell_type": "code",
   "execution_count": 19,
   "id": "da7a43f8-a7c5-4861-89c7-54cd3ba25200",
   "metadata": {},
   "outputs": [
    {
     "name": "stdout",
     "output_type": "stream",
     "text": [
      "Best solution found: x = 20.34375, Root/Fitness = 451.5556640625\n"
     ]
    }
   ],
   "source": [
    "# Genetic Algorithm\n",
    "def genetic_algorithm(init_population):\n",
    "    population = init_population\n",
    "\n",
    "    for generation in range(gen):\n",
    "        fitness_values = [fitness_function(decode(x)) for x in population]\n",
    "\n",
    "        parent1 = roulette_wheel_selection(population, fitness_values)\n",
    "        parent2 = roulette_wheel_selection(population, fitness_values)\n",
    "\n",
    "        child1, child2 = single_point_crossover(parent1, parent2)\n",
    "\n",
    "        child1 = mutate(child1)\n",
    "        child2 = mutate(child2)\n",
    "\n",
    "        population.sort(key=lambda x: fitness_function(decode(x)), reverse=True)\n",
    "        population[-2] = child1\n",
    "        population[-1] = child2\n",
    "\n",
    "    best_individual = min(population, key=lambda x: fitness_function(decode(x)))\n",
    "    return best_individual\n",
    "\n",
    "best_solution = genetic_algorithm(init_population)\n",
    "decoded_solution = decode(best_solution)\n",
    "print(f\"Best solution found: x = {decoded_solution}, Root/Fitness = {fitness_function(decoded_solution)}\")"
   ]
  }
 ],
 "metadata": {
  "kernelspec": {
   "display_name": "Python 3 (ipykernel)",
   "language": "python",
   "name": "python3"
  },
  "language_info": {
   "codemirror_mode": {
    "name": "ipython",
    "version": 3
   },
   "file_extension": ".py",
   "mimetype": "text/x-python",
   "name": "python",
   "nbconvert_exporter": "python",
   "pygments_lexer": "ipython3",
   "version": "3.12.4"
  }
 },
 "nbformat": 4,
 "nbformat_minor": 5
}
